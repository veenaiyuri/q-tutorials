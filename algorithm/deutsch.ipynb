{
 "cells": [
  {
   "cell_type": "markdown",
   "metadata": {},
   "source": [
    "# Deutsch's Algorithm"
   ]
  },
  {
   "cell_type": "markdown",
   "metadata": {},
   "source": [
    "This algorithm was introduced by David Deutsch in 1985, and was the first algorithm that showed that a quantum algorithm can outperform a classical one.<br/>\n",
    "How does Deutsch's algorithm outperform its classical counterpart?\n",
    "<img src=\"./fig/deutsch.jpg\" width=\"200\"> \n",
    "<div align=\"center\">David Deutsch (Courtesy of Wikimedia Commons)</div>"
   ]
  },
  {
   "cell_type": "markdown",
   "metadata": {},
   "source": [
    "Yuri Kobayashi"
   ]
  },
  {
   "cell_type": "markdown",
   "metadata": {},
   "source": [
    "# Deutsch's Problem: Is 𝑓(𝑥) constant?\n",
    "\n",
    "You are given an unknown boolean function $f(x)$ and need to find out its properties. A classical way requires several queries to the function to find out the answer. However, if there is an algorithm that would give you an answer with far less number of queries, you are speeding up the calculation time and achieving better performance. The number of queries that are required to determine what the function does is called **query complexity**.\n",
    "\n",
    "Deutsch's quantum algorithm allows you to solve a black box problem with better query complexity than any classical algorithm. Let's take a closer look.\n",
    "\n",
    "Suppose you were given a boolean function as below. It is a single bit function that takes either 0 or 1 as an input, and gives you 0 or 1 as an output."
   ]
  },
  {
   "cell_type": "markdown",
   "metadata": {},
   "source": [
    "<center>$f(x| x \\in \\{0,1\\})$ → $\\{0,1\\}$"
   ]
  },
  {
   "cell_type": "markdown",
   "metadata": {},
   "source": [
    "Let's take a moment and think about the possible behavior of this function. For a single qubit boolean function that allows only 0 or 1 as an input and output, the only possible results can be the following four, which can be grouped as being either constant or balanced.\n",
    "\n",
    "|$x$||$f_{1}$|$f_{2}$|$f_{3}$|$f_{4}$|\n",
    "|--||--|--|--|--|\n",
    "|0||0|0|1|1|\n",
    "|1||0|1|0|1|"
   ]
  },
  {
   "cell_type": "markdown",
   "metadata": {},
   "source": [
    "(1) **Constant**<br/> \n",
    "The output of the function will be independent of the inputs.<br/> \n",
    "<center>𝑓(0)=𝑓(1)=0 or 𝑓(0)=𝑓(1)=1\n",
    "\n",
    "(2) **Balanced**<br/> \n",
    "The output of the function will be dependent on the inputs.<br/> \n",
    "<center>𝑓(0)=0, 𝑓(1)=1  or 𝑓(0)=1, 𝑓(1)=0"
   ]
  },
  {
   "cell_type": "markdown",
   "metadata": {},
   "source": [
    "If you were given a blackbox to evaluate the function, classicaly you will have to make two evaluations of the function to determine whether it is constant or not. But David Deutch came up with an algorithm which requires only a single evaluation to figure this out."
   ]
  },
  {
   "cell_type": "markdown",
   "metadata": {},
   "source": [
    "# The quantum oracle\n",
    "\n",
    "How can we evaluate the function using a quantum computer? Here we need to encode a function as a unitary transform called an **oracle**.\n",
    "\n",
    "In this case, the oracle takes two qubits (|𝑥⟩ and |𝑦⟩)of input and produces two qubits of output as shown below.\n",
    "\n",
    "<img src=\"./fig/uf_1.png\" width=\"200\">\n",
    "\n",
    "$U_{f}$ maps the input |𝑥⟩|𝑦⟩ state to |𝑥⟩|𝑓(𝑥) ⨁ 𝑦⟩, where ⨁ is addition modulo 2, which is essentially a CNOT.  <br/> Let us encode the possible inputs |𝑥⟩|𝑦⟩=|0⟩|0⟩, |0⟩|1⟩, |1⟩|0⟩,| 1⟩|1⟩ into this oracle and see how it computes. <br/><br/> \n",
    "\n",
    "<center>\n",
    "|0⟩|0⟩  ↦ $U_{f}$  ↦  |0⟩|𝑓(0) ⨁ 0⟩<br/><br/>\n",
    "|0⟩|1⟩  ↦ $U_{f}$  ↦  |0⟩|𝑓(0) ⨁ 1⟩<br/><br/>\n",
    "|1⟩|0⟩  ↦ $U_{f}$  ↦  |1⟩|𝑓(1) ⨁ 0⟩<br/><br/>\n",
    "|1⟩|1⟩  ↦ $U_{f}$  ↦  |1⟩|𝑓(1) ⨁ 1⟩<br/><br/>  "
   ]
  },
  {
   "cell_type": "markdown",
   "metadata": {},
   "source": [
    "# The alrogithm\n",
    "\n",
    "To use a quantum computer to solve Deutsch's problem, we need to provide the inputs in superposition. Then, we apply the unitary transformation $U_{f}$ to determine whether the function is constant or not. \n",
    "Now, let's go through the steps of the algorithm:\n",
    "1. Prepare two quantum registers. Initialize to |0⟩|1⟩. \n",
    "(i.e. The first register is initialized to |0⟩ and the second register to |1⟩) <br/>\n",
    "2. Apply a Hadamard to all qubits to create superpositions <br/>\n",
    "<center>\n",
    "H|0⟩ ↦ $\\frac{1}{\\sqrt 2}$(|0⟩ + |1⟩) = |+⟩　 <br/><br/>\n",
    "H|1⟩ ↦ $\\frac{1}{\\sqrt 2}$(|0⟩ - |1⟩) = |-⟩　 <br/><br/>\n",
    "\n",
    "3. Apply unitary transformation $U_{f}$ ↦ |𝑥⟩|𝑓(𝑥) ⨁ 𝑦⟩ to the qubits in superposition <br/> \n",
    "<br/> \n",
    "<center>\n",
    "$U_{f}$(|+⟩|-⟩) = $U_{f}\\frac{1}{2}$(|0⟩ + |1⟩)(|0⟩ - |1⟩)<br/><br/>\n",
    "= $\\frac{1}{2}$(|0⟩|0⟩ - |0⟩|1⟩ + |1⟩|0⟩ - |1⟩|1⟩) <br/><br/>\n",
    "= $\\frac{1}{2}$(|0⟩(|f(0) ⊕ 0⟩-|f(0) ⊕ 1⟩)+|1⟩(|f(1) ⊕ 0⟩-|f(1) ⊕ 1⟩)) <br/><br/>\n",
    "= $\\frac{1}{2}\\sum_{x=0}^{1}$|𝑥⟩(|0 ⊕ f(x)⟩-|1 ⊕ f(x)⟩)<br/><br/>\n",
    "\n",
    "When 𝑓(𝑥)=0: <br/>\n",
    "<center>\n",
    "$\\frac{1}{\\sqrt 2}$(|0 ⊕ f(x)⟩-|1 ⊕ f(x)⟩) = $\\frac{1}{\\sqrt 2}$(|0⟩ -| 1⟩) = |-⟩ <br/>\n",
    "\n",
    "When 𝑓(𝑥)=1: <br/>\n",
    "<center>\n",
    "$\\frac{1}{\\sqrt 2}$(|0 ⊕ f(x)⟩-|1 ⊕ f(x)⟩) = $\\frac{1}{\\sqrt 2}$(|1⟩ - |0⟩) = -|-⟩ <br/>\n",
    "\n",
    "Therefore:<br/>\n",
    "<center>\n",
    "$U_{f}(\\frac{1}{\\sqrt 2}\\sum_{x=0}^{1}$|x⟩|-⟩) = $\\frac{1}{\\sqrt 2}\\sum_{x=0}^{1}(-1)^{f(x)}$|x⟩|-⟩\n",
    "\n",
    "For 𝑓(𝑥) constant, $(-1)^{f(x)}$ is a global phase that cannot be observed so the state is simply |+⟩|-⟩.\n",
    "For 𝑓(𝑥) not constant, the term $(-1)^{f(x)}$ negates exactly one of the terms in the superposition thus, up to the global phase, the state is |-⟩|-⟩.\n",
    "If we apply the Hadamard transformation $H$ to the first qubit and then measure it, we obtain |0⟩ for a constant and |1⟩ for a balanced function with certainty.\n",
    "Thus, with a single query to $U_{f}$ we can determine whether 𝑓(𝑥) is constant or not.\n",
    "\n",
    "Let us verify this buy running this algorithm on a quantum simulator. "
   ]
  },
  {
   "cell_type": "markdown",
   "metadata": {},
   "source": [
    "# Building the circuit"
   ]
  },
  {
   "cell_type": "code",
   "execution_count": 2,
   "metadata": {},
   "outputs": [],
   "source": [
    "#initialization\n",
    "import matplotlib.pyplot as plt\n",
    "%matplotlib inline\n",
    "import numpy as np\n",
    "\n",
    "# importing Qiskit\n",
    "from qiskit import IBMQ, Aer\n",
    "from qiskit.providers.ibmq import least_busy\n",
    "from qiskit import QuantumCircuit, ClassicalRegister, QuantumRegister, execute\n",
    "\n",
    "# import basic plot tools\n",
    "from qiskit.tools.visualization import plot_histogram"
   ]
  },
  {
   "cell_type": "code",
   "execution_count": 5,
   "metadata": {},
   "outputs": [],
   "source": [
    "#preparation of the Deutsch algorithm\n",
    "circuitName = \"Deutsch\"\n",
    "qr = QuantumRegister(2)\n",
    "cr = ClassicalRegister(1)\n",
    "dCircuit = QuantumCircuit(qr, cr)\n",
    "def deutsch_algorithm(dCircuit, qr):\n",
    "    \"\"\"Apply gates to construct the circuit\"\"\"\n",
    "# Flip the second register and apply the Hadamard gate.\n",
    "    dCircuit.x(1)\n",
    "    dCircuit.h(qr)\n",
    "# Apply barrier to mark the beginning of the oracle\n",
    "    dCircuit.barrier()\n",
    "    dCircuit.i(qr[1])\n",
    "# Apply barrier to mark the end of the oracle\n",
    "    dCircuit.barrier()\n",
    "# Apply Hadamard gates after querying the oracle\n",
    "    dCircuit.h(qr)"
   ]
  },
  {
   "cell_type": "code",
   "execution_count": 4,
   "metadata": {},
   "outputs": [
    {
     "data": {
      "image/png": "[encoded data removed]",
      "text/plain": [
       "<Figure size 550.228x204.68 with 1 Axes>"
      ]
     },
     "execution_count": 4,
     "metadata": {},
     "output_type": "execute_result"
    }
   ],
   "source": [
    "deutsch_algorithm(dCircuit, qr)\n",
    "dCircuit.draw(output='mpl')"
   ]
  },
  {
   "cell_type": "code",
   "execution_count": 7,
   "metadata": {},
   "outputs": [
    {
     "data": {
      "image/png": "[encoded data removed]",
      "text/plain": [
       "<Figure size 610.428x204.68 with 1 Axes>"
      ]
     },
     "execution_count": 7,
     "metadata": {},
     "output_type": "execute_result"
    }
   ],
   "source": [
    "# Measurement on first register\n",
    "dCircuit.measure(qr[0], cr[0])\n",
    "dCircuit.draw(output=\"mpl\")"
   ]
  },
  {
   "cell_type": "code",
   "execution_count": 82,
   "metadata": {},
   "outputs": [
    {
     "data": {
      "image/png": "[encoded data removed]",
      "text/plain": [
       "<Figure size 504x360 with 1 Axes>"
      ]
     },
     "execution_count": 82,
     "metadata": {},
     "output_type": "execute_result"
    }
   ],
   "source": [
    "# Plot histogram of execution results\n",
    "backend = BasicAer.get_backend('qasm_simulator')\n",
    "shots = 1024\n",
    "results = execute(dCircuit, backend=backend, shots=shots).result()\n",
    "answer = results.get_counts()\n",
    "plot_histogram(answer)"
   ]
  },
  {
   "cell_type": "markdown",
   "metadata": {},
   "source": [
    "The oracle returns 0 which means the function is constant. Here we were able to detemine if the function is constant or not in one query."
   ]
  },
  {
   "cell_type": "markdown",
   "metadata": {},
   "source": [
    "# Deutsch-Josza Algorithm"
   ]
  },
  {
   "cell_type": "markdown",
   "metadata": {},
   "source": [
    "Deutsch-Josza algorithm generalizes Deutsch's algorithm into a multiple qubit problem.\n",
    "We are given a hidden Boolean function $f$, which takes as input a string of bits, and returns either $0$ or $1$, that is \n",
    "<center>$f(\\{x_0,x_1,x_2,...\\}) \\rightarrow 0 \\textrm{ or } 1 \\textrm{ , where } x_n \\textrm{ is } 0 \\textrm{ or } 1$."
   ]
  },
  {
   "cell_type": "code",
   "execution_count": null,
   "metadata": {},
   "outputs": [],
   "source": []
  }
 ],
 "metadata": {
  "kernelspec": {
   "display_name": "Python 3",
   "language": "python",
   "name": "python3"
  },
  "language_info": {
   "codemirror_mode": {
    "name": "ipython",
    "version": 3
   },
   "file_extension": ".py",
   "mimetype": "text/x-python",
   "name": "python",
   "nbconvert_exporter": "python",
   "pygments_lexer": "ipython3",
   "version": "3.7.3"
  }
 },
 "nbformat": 4,
 "nbformat_minor": 2
}
