{
 "cells": [
  {
   "cell_type": "markdown",
   "metadata": {},
   "source": [
    "August 19, 2020 Yuri Kobayashi <br/>\n",
    "For Client Training Session <br/>"
   ]
  },
  {
   "cell_type": "markdown",
   "metadata": {
    "tags": [
     "remove_cell"
    ]
   },
   "source": [
    "# 1. ドイチ・ジョザアルゴリズム\n",
    "# 3量子ビットでドイチ・ジョザアルゴリズムを実装する <a id='implementation'></a>\n",
    "\n",
    "ドイチ・ジョザアルゴリズムを3量子ビットで実装してみましょう。一定(constant)な関数と均等（balanced)な関数をそれぞれつくります。"
   ]
  },
  {
   "cell_type": "code",
   "execution_count": null,
   "metadata": {},
   "outputs": [],
   "source": [
    "# 必要なライブラリのインポート\n",
    "from qiskit import IBMQ, BasicAer, Aer\n",
    "from qiskit.providers.ibmq import least_busy\n",
    "from qiskit import QuantumCircuit, execute\n",
    "import numpy as np\n",
    "\n",
    "# 描画ツールのインポート\n",
    "from qiskit.visualization import plot_histogram"
   ]
  },
  {
   "cell_type": "code",
   "execution_count": null,
   "metadata": {},
   "outputs": [],
   "source": [
    "#qiskitのversion確認\n",
    "import qiskit\n",
    "qiskit.__qiskit_version__"
   ]
  },
  {
   "cell_type": "code",
   "execution_count": null,
   "metadata": {},
   "outputs": [],
   "source": [
    "#入力用量子ビットの数を設定\n",
    "n = 3"
   ]
  },
  {
   "cell_type": "markdown",
   "metadata": {},
   "source": [
    "## 1.1 均等な関数 <a id='balanced_function'></a>"
   ]
  },
  {
   "cell_type": "markdown",
   "metadata": {},
   "source": [
    "均等な関数とは、0が出力される回数と1が出力される回数が同じであることを意味しました。<br/>\n",
    "\n",
    "出力が０または１となる回数が半々となる量子回路はCNOTを使ってつくることができます。\n",
    "<img src=\"images/deutsch_balanced1.jpg\" style=\"width: 420px;\"/>"
   ]
  },
  {
   "cell_type": "code",
   "execution_count": null,
   "metadata": {},
   "outputs": [],
   "source": [
    "#上記の図のとおり4量子ビット回路を用意してください。\n",
    "#各入力用量子ビットを制御に、出力用量子ビットを標的としたCNOT回路を作成してください。\n",
    "q = QuantumCircuit(4)    # 4量子ビット回路を用意\n",
    "\n",
    "# 以下にコードを入力してください\n",
    "\n",
    "q.draw(output=\"mpl\")    # 回路を描画"
   ]
  },
  {
   "cell_type": "markdown",
   "metadata": {},
   "source": [
    "## 演習１\n",
    "出力ビットが0を返すときと1を返すときの入力について考えてみましょう。\n",
    "上記回路に入力|𝑞2𝑞1𝑞0⟩=|000⟩, |001⟩, |010⟩, |011⟩, |100⟩, |101⟩, |110⟩, |111⟩をそれぞれ与えたとき、<br>\n",
    "出力ビットが0を返す（|𝑞3⟩=0となる）場合、出力ビットが1を返す（|𝑞3⟩=1となる）場合の入力（|𝑞2𝑞1𝑞0⟩）をそれぞれ書き出してみましょう。<br>\n",
    "\n",
    "| 出力 0を返す場合 | 出力 1を返す場合 |\n",
    "|:---:     |:---:    |\n",
    "|        |       |\n",
    "|        |       |\n",
    "|        |       |\n",
    "|        |       |"
   ]
  },
  {
   "cell_type": "markdown",
   "metadata": {},
   "source": [
    "結果は以下のテーブルにあるように、出力0を返す入力と、出力1を返す入力が半々（均等）になることがわかります。\n",
    "\n",
    "| 出力 0を返す場合 | 出力 1を返す場合 |\n",
    "|:---:     |:---:    |\n",
    "| 000       |  001   |\n",
    "| 011       |  010   |\n",
    "| 101       |  100   |\n",
    "| 110       |  111   |"
   ]
  },
  {
   "cell_type": "markdown",
   "metadata": {},
   "source": [
    "入力のパターンを変えても出力が半々となるかどうかをみてみましょう。<br>\n",
    "特定の制御ビットをXゲートで挟むことで、入力を変化させることができます。\n",
    "![other_balanced_circuit](images/deutsch_balanced2.svg)"
   ]
  },
  {
   "cell_type": "code",
   "execution_count": null,
   "metadata": {},
   "outputs": [],
   "source": [
    "#　上記回路にあるように入力|𝑞2𝑞1𝑞0⟩=|010⟩をつくって|𝑞3⟩の状態を確認してください。\n",
    "\n",
    "q = QuantumCircuit(4)    # 4量子ビット回路を用意\n",
    "\n",
    "# 以下にコードを入力してください\n",
    "\n",
    "\n",
    "q.draw(output=\"mpl\")    # 回路を描画"
   ]
  },
  {
   "cell_type": "markdown",
   "metadata": {},
   "source": [
    "## 演習 2\n",
    "上記回路に入力|𝑞2𝑞1𝑞0⟩=|000⟩, |001⟩, |010⟩, |011⟩, |100⟩, |101⟩, |110⟩, |111⟩をそれぞれ与えたとき、<br>\n",
    "出力ビットが0を返す（|𝑞3⟩=0となる）場合、出力ビットが1を返す（|𝑞3⟩=1となる）場合の入力（|𝑞2𝑞1𝑞0⟩）をそれぞれ書き出してみましょう。<br>\n",
    "\n",
    "| 出力が0となる場合 | 出力が1となる場合 |\n",
    "|:---:     |:---:    |\n",
    "|        |       |\n",
    "|        |       |\n",
    "|        |       |\n",
    "|        |       |"
   ]
  },
  {
   "cell_type": "markdown",
   "metadata": {},
   "source": [
    "結果は、以下のテーブルの通りです。演習１の出力と見比べてみましょう。<br>\n",
    "それぞれの出力結果が得られる組合せは反転しつつ、場合の数は半々（均等）に保てていることがわかります。<br>\n",
    "\n",
    "| 出力が0となる場合 | 出力が1となる場合 |\n",
    "|:---------:|:---------:|\n",
    "|    001    |    000    |\n",
    "|    010    |    011    |\n",
    "|    100    |    101    |\n",
    "|    111    |    110    |"
   ]
  },
  {
   "cell_type": "markdown",
   "metadata": {},
   "source": [
    "### 均等な関数の作成"
   ]
  },
  {
   "cell_type": "markdown",
   "metadata": {},
   "source": [
    "前述のとおり、入力を制御ビットに、出力を標的ビットにCNOTゲートをかけることで均等な関数がつくれることがわかりました。さらに、特定の制御ビットをXゲートで挟むことで出力0または1を返す入力を変化させることができます。どの制御ビットを挟むべきかを確定してくれるよう、nの長さのバイナリ列 `b_str` を選んでみましょう。"
   ]
  },
  {
   "cell_type": "code",
   "execution_count": null,
   "metadata": {},
   "outputs": [],
   "source": [
    "balanced_f = QuantumCircuit(n+1,n)"
   ]
  },
  {
   "cell_type": "code",
   "execution_count": null,
   "metadata": {
    "scrolled": true
   },
   "outputs": [],
   "source": [
    "b_str = \"101\""
   ]
  },
  {
   "cell_type": "markdown",
   "metadata": {},
   "source": [
    "任意のb_strはXゲートを置く場所を決める「鍵」として使うことができます。`b_str` の桁が`1` の時はXゲートを配置し、`0`のときは何もしません。コードでは以下のように書けます。"
   ]
  },
  {
   "cell_type": "code",
   "execution_count": null,
   "metadata": {},
   "outputs": [],
   "source": [
    "for qubit in range(len(b_str)):\n",
    "    if b_str[qubit] == '1':\n",
    "        balanced_f.x(qubit)\n",
    "balanced_f.draw()"
   ]
  },
  {
   "cell_type": "markdown",
   "metadata": {},
   "source": [
    "つついて、CNOTを各量子ビットに配置します。"
   ]
  },
  {
   "cell_type": "code",
   "execution_count": null,
   "metadata": {},
   "outputs": [],
   "source": [
    "balanced_f.barrier()   #回路をみやすくするためにバリアを配置\n",
    "\n",
    "for qubit in range(n):    #入力用量子ビットにCNOTゲートを適用\n",
    "    balanced_f.cx(qubit, n)\n",
    "\n",
    "balanced_f.barrier() #回路をみやすくするためにバリアを配置\n",
    "balanced_f.draw()"
   ]
  },
  {
   "cell_type": "markdown",
   "metadata": {},
   "source": [
    "最後に該当する制御量子ビットをＸゲートで挟みます。"
   ]
  },
  {
   "cell_type": "code",
   "execution_count": null,
   "metadata": {},
   "outputs": [],
   "source": [
    "for qubit in range(len(b_str)):\n",
    "    if b_str[qubit] == '1':\n",
    "        balanced_f.x(qubit)\n",
    "        \n",
    "balanced_f.draw()"
   ]
  },
  {
   "cell_type": "markdown",
   "metadata": {},
   "source": [
    "均等な関数の完成です。つづいて、ドイチ・ジョザアルゴリズムのなかに、これらの関数を組み込んでいきましょう。\n",
    "\n",
    "## 1.2 アルゴリズムへの均等な関数の実装 <a id='full_alg'></a>\n",
    "\n",
    "ドイチ・ジョザアルゴリズムは以下の４つのステップで実装ができます。\n",
    "1. 入力用の量子ビットをすべて$\\vert0\\rangle$に、そして最後の補助の量子ビット（アンシラ）だけ$\\vert1\\rangle$に初期化する\n",
    "2. 全体にアダマールをかけて、入力用量子ビットはすべて$|{+}\\rangle$ に、そして補助の量子ビットは$|{-}\\rangle$にする\n",
    "3. 制御ユニタリ　Uf |𝑥⟩|𝑦⟩↦|𝑥⟩|𝑓(𝑥)⊕𝑦⟩   を適用する\n",
    "4. 最後に入力用の量子ビットに再びアダマールを適用する"
   ]
  },
  {
   "cell_type": "code",
   "execution_count": null,
   "metadata": {},
   "outputs": [],
   "source": [
    "#ドイチ・ジョザアルゴリズムに均等な関数を実装した回路を\"balanced_dj\"と名付ける\n",
    "balanced_dj = QuantumCircuit(n+1, n)\n",
    "\n",
    "#Step 1:　各量子ビットはもともと|0>に初期化されているため、最後のアンシラだけ|1>にします。\n",
    "# 以下にコードを入力してください\n",
    "\n",
    "#Step 2: 全体にアダマールをかけて入力用量子ビットはすべて|+⟩ に、そして補助の量子ビットは|−⟩に\n",
    "for qubit in range(n):    #全量子ビットにアダマールを適用\n",
    "    balanced_dj.h(qubit)\n",
    "\n",
    "#Step 3: オラクルUf |𝑥⟩|𝑦⟩↦|𝑥⟩|𝑓(𝑥)⊕𝑦⟩を適用\n",
    "# 次ステップでUfを構築します\n",
    "\n",
    "#Step 4: 最後の補助量子ビットにアダマールを適用して回路を描画\n",
    "# 以下にコードを入力してください  \n",
    "\n",
    "balanced_dj.draw()"
   ]
  },
  {
   "cell_type": "markdown",
   "metadata": {},
   "source": [
    "つぎに、前に構築した「均等な関数」を追加します。"
   ]
  },
  {
   "cell_type": "code",
   "execution_count": null,
   "metadata": {
    "scrolled": true
   },
   "outputs": [],
   "source": [
    "balanced_dj += balanced_f  #均等な関数の追加\n",
    "balanced_dj.draw()"
   ]
  },
  {
   "cell_type": "markdown",
   "metadata": {},
   "source": [
    "最後に、入力用量子ビット全体に再びアダマール（Ｈゲート）をかけて測定を行います。"
   ]
  },
  {
   "cell_type": "code",
   "execution_count": null,
   "metadata": {
    "scrolled": true
   },
   "outputs": [],
   "source": [
    "for qubit in range(n):　# 以下にコードを入力して入力用量子ビット全体にアダマールをかけてください。\n",
    "\n",
    "\n",
    "balanced_dj.barrier()\n",
    "for i in range(n):　# 以下にコードを入力して測定を行ってください。\n",
    "\n",
    "\n",
    "balanced_dj.draw()"
   ]
  },
  {
   "cell_type": "markdown",
   "metadata": {},
   "source": [
    "## 1.3 シミュレーターでの実行"
   ]
  },
  {
   "cell_type": "code",
   "execution_count": null,
   "metadata": {},
   "outputs": [],
   "source": [
    "# 回路をシミュレーターに投げて結果を出力します\n",
    "simulator = Aer.get_backend('qasm_simulator')\n",
    "result = execute(balanced_dj, backend=simulator, shots=1).result()\n",
    "\n",
    "# 結果をヒストグラムでプロットします\n",
    "plot_histogram(result.get_counts(balanced_dj))"
   ]
  },
  {
   "cell_type": "markdown",
   "metadata": {},
   "source": [
    "上記結果より、100%の確率で`111`を観測しました。均等な関数が正しく実装されたことがわかります。 "
   ]
  },
  {
   "cell_type": "markdown",
   "metadata": {},
   "source": [
    "## 1.4 実機での実行 <a id='device'></a>\n",
    "\n",
    "さきほどの回路を、今度は一番ジョブの空いている実機を指定して実行してみましょう。"
   ]
  },
  {
   "cell_type": "code",
   "execution_count": null,
   "metadata": {},
   "outputs": [],
   "source": [
    "# 初めて実デバイスで実行する人はこちらを実行\n",
    "# from qiskit import IBMQ\n",
    "# IBMQ.save_account('MY_API_TOKEN')    # ご自分のトークンを入れてください"
   ]
  },
  {
   "cell_type": "code",
   "execution_count": null,
   "metadata": {},
   "outputs": [],
   "source": [
    "#IBM Q accountをロードしプロバイダを指定\n",
    "IBMQ.load_account()\n",
    "provider = IBMQ.load_account()\n",
    "provider = IBMQ.get_provider(hub='ibm-q')\n",
    "#一番空いているバックエンドを自動的に選択して実行\n",
    "backend = least_busy(provider.backends(filters=lambda x: x.configuration().n_qubits >= (n+1) and\n",
    "                                   not x.configuration().simulator and x.status().operational==True))\n",
    "print(\"least busy backend: \", backend)"
   ]
  },
  {
   "cell_type": "code",
   "execution_count": null,
   "metadata": {},
   "outputs": [],
   "source": [
    "#上記で特定したバックエンドを指定してジョブを実行します。 \n",
    "from qiskit.tools.monitor import job_monitor\n",
    "\n",
    "shots = 1024\n",
    "job = execute(balanced_dj, backend=backend, shots=shots, optimization_level=3)\n",
    "\n",
    "#プログラムの実行ステータスをモニターします。\n",
    "job_monitor(job, interval = 2)"
   ]
  },
  {
   "cell_type": "code",
   "execution_count": null,
   "metadata": {},
   "outputs": [],
   "source": [
    "#計算結果(results)を取得し、答え（answer)をプロットします。\n",
    "results = job.result()\n",
    "answer = results.get_counts()\n",
    "\n",
    "# 結果をヒストグラムでプロットします\n",
    "plot_histogram(answer)"
   ]
  },
  {
   "cell_type": "markdown",
   "metadata": {},
   "source": [
    "実機での実行結果でも `111`を最も高い確率で測定できました。`111`以外の答えも出ているのは、実機におけるノイズの影響です。"
   ]
  },
  {
   "cell_type": "markdown",
   "metadata": {},
   "source": [
    "## 1.6 参考文献 <a id='references'></a>\n",
    "\n",
    "1. David Deutsch and Richard Jozsa (1992). \"Rapid solutions of problems by quantum computation\". Proceedings of the Royal Society of London A. 439: 553–558.  [doi:10.1098/rspa.1992.0167](https://doi.org/10.1098%2Frspa.1992.0167).\n",
    "2. R. Cleve; A. Ekert; C. Macchiavello; M. Mosca (1998). \"Quantum algorithms revisited\". Proceedings of the Royal Society of London A. 454: 339–354. [doi:10.1098/rspa.1998.0164](https://doi.org/10.1098%2Frspa.1998.0164)."
   ]
  },
  {
   "cell_type": "markdown",
   "metadata": {},
   "source": [
    "# 2. ベルンシュタイン・ヴァジラニアルゴリズム"
   ]
  },
  {
   "cell_type": "markdown",
   "metadata": {},
   "source": [
    "5つのステップでベルンシュタイン・ヴァジラニアルゴリズムをQiskitをつかって実装しましょう。\n",
    "\n",
    "1. 秘密のバイナリ文字列を設定して、必要数の量子ビットを準備する。\n",
    "2. 入力用のn個の量子ビットをすべて$\\vert0\\rangle$に、そして最後の補助の量子ビット（アンシラ）だけ$\\vert1\\rangle$に初期化する。Qiskitでは量子ビットはもともと$\\vert0\\rangle$に勝機されているため、$n$量子ビットに対しては何もせず、最後の補助用量子ビット（アンシラ）だけ $\\vert1\\rangle$にします。\n",
    "3. 全体にアダマールをかけて、入力用量子ビットはすべて$|{+}\\rangle$ に、そして補助の量子ビットは$|{-}\\rangle$にする\n",
    "\n",
    "4. 秘密のバイナリ文字列を保持する箱（オラクル）を作成する。 $s.x$ modulo 2を計算する関数を作成するために最初の$n$量子ビットのなかに$1$が含まれているときに$CX$ゲートを適用するようにする。例えば秘密のバイナリ文字列の最初のビットが1のときは$CX$ゲートを$n$番目の量子ビットに適用する。\n",
    "\n",
    "5. 最後にアダマールを入力n量子ビットにかけて測定する。"
   ]
  },
  {
   "cell_type": "code",
   "execution_count": null,
   "metadata": {},
   "outputs": [],
   "source": [
    "#必要に応じてQiskitのライブラリ等のインポート\n",
    "%matplotlib inline\n",
    "from qiskit import *\n",
    "from qiskit import IBMQ\n",
    "from qiskit.providers.ibmq import least_busy\n",
    "from qiskit.tools.visualization import plot_histogram"
   ]
  },
  {
   "cell_type": "code",
   "execution_count": null,
   "metadata": {},
   "outputs": [],
   "source": [
    "#適当なバイナリ文字列を設定\n",
    "s = '011001'"
   ]
  },
  {
   "cell_type": "code",
   "execution_count": null,
   "metadata": {},
   "outputs": [],
   "source": [
    "#qcという名の量子回路を準備\n",
    "qc = QuantumCircuit(6+1,6)\n",
    "qc.x(6)\n",
    "qc.h(6)\n",
    "qc.h(range(6))\n",
    "qc.draw()"
   ]
  },
  {
   "cell_type": "markdown",
   "metadata": {},
   "source": [
    "## 2.1 秘密の数と量子ビットの数を設定する"
   ]
  },
  {
   "cell_type": "code",
   "execution_count": null,
   "metadata": {},
   "outputs": [],
   "source": [
    "# Step 1\n",
    "s = '011001'\n",
    "#$n+1$ 量子ビットと結果を格納する $n$個の古典レジスタを用意する。$n$は秘密の文字列の長さと同じ。\n",
    "n = len(s)\n",
    "qc = QuantumCircuit(n+1,n)"
   ]
  },
  {
   "cell_type": "markdown",
   "metadata": {},
   "source": [
    "## 2.2 回路を作成する"
   ]
  },
  {
   "cell_type": "code",
   "execution_count": null,
   "metadata": {},
   "outputs": [],
   "source": [
    "# Step 2\n",
    "\n",
    "qc.x(n) #最後の量子ビットを|1⟩にする\n",
    "\n",
    "qc.barrier() #回路をみやすくするためにバリアを配置\n",
    "\n",
    "# Step 3\n",
    "\n",
    "qc.h(range(n+1)) #全体にHゲートを適用\n",
    "\n",
    "qc.barrier() #回路をみやすくするためにバリアを配置\n",
    "\n",
    "# Step 4\n",
    "\n",
    "for ii, yesno in enumerate(reversed(s)):\n",
    "    if yesno == '1': \n",
    "        qc.cx(ii, n)\n",
    "    \n",
    "qc.barrier() #回路をみやすくするためにバリアを配置\n",
    "\n",
    "# Step 5\n",
    "\n",
    "qc.h(range(n+1)) #全量子ビットに再びHを適用\n",
    "\n",
    "qc.barrier() #回路をみやすくするためにバリアを配置\n",
    "\n",
    "qc.measure(range(n), range(n)) # 0 から n-1までの入力n量子ビットを測定し古典レジスタに結果を格納"
   ]
  },
  {
   "cell_type": "code",
   "execution_count": null,
   "metadata": {},
   "outputs": [],
   "source": [
    "%matplotlib inline\n",
    "#回路図を描画\n",
    "qc.draw(output='mpl')"
   ]
  },
  {
   "cell_type": "markdown",
   "metadata": {},
   "source": [
    "## 2.3 シミュレーターでの実行\n",
    "さきほどの回路を、今度は一番ジョブの空いている実機を指定して実行してみましょう。"
   ]
  },
  {
   "cell_type": "code",
   "execution_count": null,
   "metadata": {},
   "outputs": [],
   "source": [
    "# 回路をシミュレーターに投げて結果を出力します\n",
    "simulator = Aer.get_backend('qasm_simulator')\n",
    "# shots=1で実施\n",
    "result = execute(qc, backend=simulator, shots=1).result()\n",
    "# 結果をヒストグラムでプロットします\n",
    "from qiskit.visualization import plot_histogram\n",
    "plot_histogram(result.get_counts(qc))"
   ]
  },
  {
   "cell_type": "markdown",
   "metadata": {},
   "source": [
    "## 2.4 実機での実行"
   ]
  },
  {
   "cell_type": "code",
   "execution_count": null,
   "metadata": {},
   "outputs": [],
   "source": [
    "provider = IBMQ.load_account()\n",
    "provider = IBMQ.get_provider(hub='ibm-q')\n",
    "backend = least_busy(provider.backends(filters=lambda x: x.configuration().n_qubits >= (n+1) and\n",
    "                                   not x.configuration().simulator and x.status().operational==True))\n",
    "print(\"least busy backend: \", backend)"
   ]
  },
  {
   "cell_type": "code",
   "execution_count": null,
   "metadata": {},
   "outputs": [],
   "source": [
    "#上記で特定したバックエンドを指定してジョブを実行します。 \n",
    "from qiskit.tools.monitor import job_monitor\n",
    "\n",
    "shots = 1024\n",
    "job = execute(qc, backend=backend, shots=shots, optimization_level=3)\n",
    "\n",
    "#プログラムの実行ステータスをモニターします。\n",
    "job_monitor(job, interval = 2)"
   ]
  },
  {
   "cell_type": "code",
   "execution_count": null,
   "metadata": {},
   "outputs": [],
   "source": [
    "# filter = {'hubInfo.hub.name': 'ibm-q'}\n",
    "# job_list = backend.jobs(limit=5, db_filter=filter)\n",
    "job_list = backend.jobs()[0]\n",
    "print(job_list)"
   ]
  },
  {
   "cell_type": "code",
   "execution_count": null,
   "metadata": {},
   "outputs": [],
   "source": [
    "#計算結果(results)を取得し、答え（answer)をプロットします。\n",
    "results = job.result()\n",
    "answer = results.get_counts()\n",
    "# 結果をヒストグラムでプロットします\n",
    "plot_histogram(answer,figsize=(20,7))"
   ]
  },
  {
   "cell_type": "markdown",
   "metadata": {},
   "source": [
    "実機での実行結果でも秘密のバイナリ文字列を特定できました。実機におけるノイズの影響も確認できます。"
   ]
  },
  {
   "cell_type": "markdown",
   "metadata": {},
   "source": [
    "## 2.4 参考文献"
   ]
  },
  {
   "cell_type": "markdown",
   "metadata": {},
   "source": [
    "#### Journal Papers\n",
    "\n",
    "1. Ethan Bernstein and Umesh Vazirani (1997) \"Quantum Complexity Theory\" SIAM Journal on Computing, Vol. 26, No. 5: 1411-1473, <a id='1' href='https://doi.org/10.1137/S0097539796300921'>doi:10.1137/S0097539796300921</a>).\n",
    "\n",
    "#### Tutorials\n",
    "For detailed information about Qiskit, check out the tutorials in the Github repository:\n",
    "\n",
    "https://github.com/Qiskit/qiskit-iqx-tutorials\n",
    "\n",
    "For details on the Bernstein-Vazirani algorithm, check out the open-source `Learn Quantum Computation using Qiskit` textbook:\n",
    "\n",
    "https://community.qiskit.org/textbook/"
   ]
  }
 ],
 "metadata": {
  "kernelspec": {
   "display_name": "Python 3",
   "language": "python",
   "name": "python3"
  },
  "language_info": {
   "codemirror_mode": {
    "name": "ipython",
    "version": 3
   },
   "file_extension": ".py",
   "mimetype": "text/x-python",
   "name": "python",
   "nbconvert_exporter": "python",
   "pygments_lexer": "ipython3",
   "version": "3.7.3"
  },
  "widgets": {
   "application/vnd.jupyter.widget-state+json": {
    "state": {
     "212556b140c74c639e06e4bf7822950a": {
      "model_module": "@jupyter-widgets/base",
      "model_module_version": "1.2.0",
      "model_name": "LayoutModel",
      "state": {}
     },
     "2a270de8a3684176a046c8253f879029": {
      "model_module": "@jupyter-widgets/base",
      "model_module_version": "1.2.0",
      "model_name": "LayoutModel",
      "state": {}
     },
     "3e3c6dee6c0c40ff98090b0091efe9fd": {
      "model_module": "@jupyter-widgets/controls",
      "model_module_version": "1.5.0",
      "model_name": "DescriptionStyleModel",
      "state": {
       "description_width": ""
      }
     },
     "3f279ab538fa47da8f99d8a0e9b4cfa8": {
      "model_module": "@jupyter-widgets/controls",
      "model_module_version": "1.5.0",
      "model_name": "ButtonStyleModel",
      "state": {}
     },
     "409e9b11a49c416bba9d93866dacfa7e": {
      "model_module": "@jupyter-widgets/controls",
      "model_module_version": "1.5.0",
      "model_name": "ButtonModel",
      "state": {
       "description": "Oracle",
       "layout": "IPY_MODEL_2a270de8a3684176a046c8253f879029",
       "style": "IPY_MODEL_4ca1a5449e08483ba2c4630d0d769b0f"
      }
     },
     "4ca1a5449e08483ba2c4630d0d769b0f": {
      "model_module": "@jupyter-widgets/controls",
      "model_module_version": "1.5.0",
      "model_name": "ButtonStyleModel",
      "state": {}
     },
     "541f7d4c5191443592fc6bddad374575": {
      "model_module": "@jupyter-widgets/base",
      "model_module_version": "1.2.0",
      "model_name": "LayoutModel",
      "state": {}
     },
     "54bca73b8d4e4a0a8d97f5eef9336a5b": {
      "model_module": "@jupyter-widgets/controls",
      "model_module_version": "1.5.0",
      "model_name": "ButtonModel",
      "state": {
       "description": "Clear",
       "layout": "IPY_MODEL_212556b140c74c639e06e4bf7822950a",
       "style": "IPY_MODEL_9f1d498e91dd4914b7484a6f2cd04ed5"
      }
     },
     "6168134b9f234c49ae48eab390301eab": {
      "buffers": [
       {
        "data": "iVBORw0KGgoAAAANSUhEUgAAASoAAADMCAYAAADEUO4EAAAABHNCSVQICAgIfAhkiAAAAAlwSFlzAAALEgAACxIB0t1+/AAAADh0RVh0U29mdHdhcmUAbWF0cGxvdGxpYiB2ZXJzaW9uMy4yLjEsIGh0dHA6Ly9tYXRwbG90bGliLm9yZy+j8jraAAAKfUlEQVR4nO3df0jc9x3H8dfdxR8J6czMtUq0CbF6stxyN7yWZjJqHZ29lGyE0hBkOCoOM+OyJY7BOmqILNwf4pjkn3XQdcKa3ajHbZTgTLdFbymXPyJSg/3HmZjKDecMS8bsrjZ4tz9Cb1zT0mTR+77TPh9wf+Rz3t37OHj6+XxR48pms1kBgGFupwcAgE9CqACYR6gAmEeoAJhHqACYR6gAmEeoAJhHqACYR6gAmEeoAJhHqACYR6gAmEeoAJhHqACYR6gAmEeoAJhHqACYR6gAmEeoAJhHqACYR6gAmEeoAJhHqACYR6gAmEeoAJhHqACYR6gAmEeoAJhHqACYR6gAmEeoAJhHqACYR6gAmEeoAJhHqACYR6gAmEeoAJhHqACYR6gAmEeoAJhHqACYR6gAmEeoAJhHqACYR6gAmEeoAJhHqACYR6gAmEeoAJhHqACYR6gAmEeoAJhHqACYR6gAmEeojMlkMhoYGFBdXZ1KS0sVDAaVSCRUX1+vzs5Op8cDHLHB6QGQr6OjQ/F4XL29vQqFQkomk2ptbdXS0pJ6enqcHg9wBKEyJBqNamhoSOPj42pqapIkNTc3a3JyUvF4XA0NDQ5PCDiDo58hkUhE4XA4F6kP1NbWqqioSIFAQJJ09epVNTU1yefzaffu3Tp//rwT4wIFw47KiFQqpenpaR07duy2++bn5+X3+1VSUiJJOnTokA4ePKjDhw8rmUzqwIEDmpubU3Fx8ZrM4nK51uR5cP/KZrNOj5CHHZURqVRKklRZWZm3nk6nlUgkcse+a9eu6c0331RHR4ckqbGxUdu2bdPY2FhhBwYKiB2VEV6vV5I0MzOjZ555Jrfe39+vhYUFhUIhSbd2VxUVFbndlSTt3LlT77zzzprNYu27KUCojKipqVEgEFAkElF5ebmqqqoUi8U0MjIiSblQAZ9FHP2McLvdGh4elt/vV1dXl9rb2+X1etXd3S2Px5O7kL59+3YtLi5qZWUl99i5uTnt2LHDqdGBdefKss83ra2tTVNTU7p06VJuraWlRfv3789dTH/uued09erVNbuYDljD0c+4iYkJ7dmzJ2/tpZde0vPPP6/BwUEVFxcrGo0SKXyqsaMybHl5WWVlZRocHNSRI0ecHgdwDKECYB4X0wGYR6gAmEeoAJhHqACYR6gAmEeoAJhHqACYR6gAmEeoAJhHqACYR6gAmEeoAJhHqACYR6gAmEeoAJhHqACYR6gAmEeoAJhHqACYR6gAmEeoAJhHqACYR6gAmEeoAJhHqACYR6gAmEeoAJhHqACYR6gAmEeoAJhHqACYR6gAmEeojMlkMhoYGFBdXZ1KS0sVDAaVSCRUX1+vzs5Op8cDHLHB6QGQr6OjQ/F4XL29vQqFQkomk2ptbdXS0pJ6enqcHg9wBKEyJBqNamhoSOPj42pqapIkNTc3a3JyUvF4XA0NDQ5PCDiDo58hkUhE4XA4F6kP1NbWqqioSIFAQJJ0/Phx+Xw+ud1uxWIxJ0YFCopQGZFKpTQ9Pa0DBw7cdt/8/Lz8fr9KSkokSeFwWKOjo3riiScKPSbgCI5+RqRSKUlSZWVl3no6nVYikdDevXtza42Njes6i8vlWtfnh33ZbNbpEfKwozLC6/VKkmZmZvLW+/v7tbCwoFAo5MRYgAnsqIyoqalRIBBQJBJReXm5qqqqFIvFNDIyIkkFDZW176YAOyoj3G63hoeH5ff71dXVpfb2dnm9XnV3d8vj8eQupAOfReyoDPH5fBobG8tba2tr065du7Rx40aHpgKcx47KuImJiduOfb29vaqurtaFCxd06NAhVVdX6/Llyw5NCKw/V5YLEmYtLy+rrKxMg4ODOnLkiNPjAI4hVADM4+gHwDxCBcA8QgXAPEIFwDxCBcA8QgXAPEIFwDxCBcA8QgXAPEIFwDxCBcA8QgXAPEIFwDxCBcA8QgXAPEIFwDxCBcA8QgXAPEIFwDxCBcA8QgXAPEIFwDxCBcA8/kt3FNTR04V/zcFv3tvji//4h7UZ5C69/7W9jryuReyoAJhHqACYR6gAmEeoAJhHqACYR6gAmEeoAJhHqACYR6gAmEeojMlkMhoYGFBdXZ1KS0sVDAaVSCRUX1+vzs5Op8cruJe/u03TYy/nrWWzWf3825/T7MXfOTTVx8ucfUM3v/Hs7bfwPt0M71M2nXZ6xPsSv0JjTEdHh+LxuHp7exUKhZRMJtXa2qqlpSX19PQ4PV5BLf/zb3r3xoIe3PGlvPV//eOK3n/v36qoedShyT6e++kWuZ9uyVvLJP6i1f6fyvO9brk2bnRosvsboTIkGo1qaGhI4+PjampqkiQ1NzdrcnJS8XhcDQ0NDk9YWItXLsrl9mhr9Rfz1q/NT2lTWYUe2PqwQ5Pducyf/qzVn52S5wdH5f5qs9Pj3Lc4+hkSiUQUDodzkfpAbW2tioqKFAgEdP36de3bt08+n0/BYFAtLS2anZ11aOL1tXjloj5f6dOG4tK89aX5KT20095u6sMyI6O3IvWjHxKpe8SOyohUKqXp6WkdO3bstvvm5+fl9/tVUlKidDqto0eP6qmnnpIknTp1Su3t7Tp//vyazeJyudbsuT7s+69m7/hrF69c1I3FWf3iO9689Zsry3r06y/c8fPc6/spemPkrh+z+vvXlXn5FXle/LHcX378/3rd9fwcPkk2e+efUyEQKiNSqZQkqbKyMm89nU4rkUho795bf/Jjy5YtuUhJUmNjo/r7+ws3aAEtzk3o8WdP6Atf+Vbe+ukXdqvC8I5q9bWYMr8+Lc+J43I/+tk6rq8Xjn5GeL23dg0zMzN56/39/VpYWFAoFPrIxw0ODmr//v1rOks2m12325268fdZrbx7XTsCT+uBrdW52+rN97TynxuqqHmsYO/nbqy++htlTkflOdl3z5Faz89hLd9zIbCjMqKmpkaBQECRSETl5eWqqqpSLBbTyMitY8dHhaqvr0+zs7M6d+5cocddd4tXLmpDySY9uD2Yt77w16Q2b31Ym8oecmiyj7f6ypAyr5+RJ/ITuf27nB7nU4UdlRFut1vDw8Py+/3q6upSe3u7vF6vuru75fF4FAgE8r7+5MmTOnPmjEZHR7Vp0yaHpl4/i1cuqmLnY3J78r+XLsxeMHnsy16+rMxvX5NWVrT6wou3/RzV6i9/5fSI9zVX1uI+DzltbW2amprSpUuXcmt9fX0aGRnR2bNntWXLFgenu3v8KeI7x58i/h+OfsZNTExoz549uX+//fbbOnHihB555BE9+eSTufW33nrLgemAwiBUhi0vL2tmZkaHDx/Orfn9fpMXO4H1RKgM27x5s1ZXV50eA3AcF9MBmEeoAJhHqACYR6gAmEeoAJhHqACYR6gAmMev0AAwjx0VAPMIFQDzCBUA8wgVAPMIFQDzCBUA8wgVAPMIFQDzCBUA8wgVAPMIFQDzCBUA8wgVAPMIFQDzCBUA8wgVAPMIFQDzCBUA8wgVAPMIFQDzCBUA8wgVAPMIFQDzCBUA8wgVAPMIFQDzCBUA8wgVAPMIFQDzCBUA8wgVAPMIFQDzCBUA8wgVAPMIFQDzCBUA8wgVAPP+CzY6RdF24abKAAAAAElFTkSuQmCC",
        "encoding": "base64",
        "path": [
         "value"
        ]
       }
      ],
      "model_module": "@jupyter-widgets/controls",
      "model_module_version": "1.5.0",
      "model_name": "ImageModel",
      "state": {
       "layout": "IPY_MODEL_541f7d4c5191443592fc6bddad374575",
       "value": {}
      }
     },
     "8e573e5c9b09466faab96f6acfaa7ae1": {
      "model_module": "@jupyter-widgets/controls",
      "model_module_version": "1.5.0",
      "model_name": "ButtonModel",
      "state": {
       "description": "H⊗ⁿ",
       "layout": "IPY_MODEL_8f8e8727fbfb4b4589db5f483e069f3f",
       "style": "IPY_MODEL_3f279ab538fa47da8f99d8a0e9b4cfa8"
      }
     },
     "8f8e8727fbfb4b4589db5f483e069f3f": {
      "model_module": "@jupyter-widgets/base",
      "model_module_version": "1.2.0",
      "model_name": "LayoutModel",
      "state": {}
     },
     "9f1d498e91dd4914b7484a6f2cd04ed5": {
      "model_module": "@jupyter-widgets/controls",
      "model_module_version": "1.5.0",
      "model_name": "ButtonStyleModel",
      "state": {}
     },
     "aa91e6a9b0434d049414e5ffb052b279": {
      "model_module": "@jupyter-widgets/controls",
      "model_module_version": "1.5.0",
      "model_name": "HTMLMathModel",
      "state": {
       "layout": "IPY_MODEL_dc2d50070a704bed82d4a3f655347864",
       "style": "IPY_MODEL_3e3c6dee6c0c40ff98090b0091efe9fd",
       "value": "$$ |00\\rangle = |00\\rangle $$"
      }
     },
     "c2a7d1267d8d4858b104449ac284916a": {
      "model_module": "@jupyter-widgets/base",
      "model_module_version": "1.2.0",
      "model_name": "LayoutModel",
      "state": {}
     },
     "dc2d50070a704bed82d4a3f655347864": {
      "model_module": "@jupyter-widgets/base",
      "model_module_version": "1.2.0",
      "model_name": "LayoutModel",
      "state": {}
     },
     "dff737ac23f14b1ca38f64ce05c95907": {
      "model_module": "@jupyter-widgets/controls",
      "model_module_version": "1.5.0",
      "model_name": "HBoxModel",
      "state": {
       "children": [
        "IPY_MODEL_8e573e5c9b09466faab96f6acfaa7ae1",
        "IPY_MODEL_409e9b11a49c416bba9d93866dacfa7e",
        "IPY_MODEL_54bca73b8d4e4a0a8d97f5eef9336a5b"
       ],
       "layout": "IPY_MODEL_c2a7d1267d8d4858b104449ac284916a"
      }
     }
    },
    "version_major": 2,
    "version_minor": 0
   }
  }
 },
 "nbformat": 4,
 "nbformat_minor": 2
}
